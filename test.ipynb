{
 "cells": [
  {
   "cell_type": "code",
   "execution_count": 2,
   "source": [
    "import sys\n",
    "sys.path.append(\"./OpenLongTailRecognition-OLTR\")\n",
    "from utils import source_import\n",
    "from models.ResNetFeature import *"
   ],
   "outputs": [],
   "metadata": {}
  },
  {
   "cell_type": "code",
   "execution_count": 5,
   "source": [
    "ret = source_import('/mnt/lustre/tianchangyao/code/OpenLongTailRecognition-OLTR/config/ImageNet_LT/stage_1.py')"
   ],
   "outputs": [],
   "metadata": {}
  },
  {
   "cell_type": "code",
   "execution_count": 6,
   "source": [
    "ret.config"
   ],
   "outputs": [
    {
     "output_type": "execute_result",
     "data": {
      "text/plain": [
       "{'training_opt': {'dataset': 'ImageNet_LT',\n",
       "  'log_dir': './logs/ImageNet_LT/stage1',\n",
       "  'num_classes': 1000,\n",
       "  'batch_size': 128,\n",
       "  'num_workers': 8,\n",
       "  'num_epochs': 30,\n",
       "  'display_step': 10,\n",
       "  'feature_dim': 512,\n",
       "  'open_threshold': 0.1,\n",
       "  'sampler': None,\n",
       "  'scheduler_params': {'step_size': 10, 'gamma': 0.1}},\n",
       " 'networks': {'feat_model': {'def_file': './models/ResNet10Feature.py',\n",
       "   'params': {'use_modulatedatt': False,\n",
       "    'use_fc': False,\n",
       "    'dropout': None,\n",
       "    'stage1_weights': False,\n",
       "    'dataset': 'ImageNet_LT'},\n",
       "   'optim_params': {'lr': 0.1, 'momentum': 0.9, 'weight_decay': 0.0005},\n",
       "   'fix': False},\n",
       "  'classifier': {'def_file': './models/DotProductClassifier.py',\n",
       "   'params': {'in_dim': 512,\n",
       "    'num_classes': 1000,\n",
       "    'stage1_weights': False,\n",
       "    'dataset': 'ImageNet_LT'},\n",
       "   'optim_params': {'lr': 0.1, 'momentum': 0.9, 'weight_decay': 0.0005}}},\n",
       " 'criterions': {'PerformanceLoss': {'def_file': './loss/SoftmaxLoss.py',\n",
       "   'loss_params': {},\n",
       "   'optim_params': None,\n",
       "   'weight': 1.0}},\n",
       " 'memory': {'centroids': False, 'init_centroids': False}}"
      ]
     },
     "metadata": {},
     "execution_count": 6
    }
   ],
   "metadata": {}
  },
  {
   "cell_type": "code",
   "execution_count": null,
   "source": [
    "resnet152 = ResNet(Bottleneck, [3, 8, 36, 3], use_modulatedatt=False, use_fc=False, dropout=None)"
   ],
   "outputs": [],
   "metadata": {}
  },
  {
   "cell_type": "code",
   "execution_count": null,
   "source": [
    "resnet152"
   ],
   "outputs": [],
   "metadata": {}
  }
 ],
 "metadata": {
  "orig_nbformat": 4,
  "language_info": {
   "name": "python",
   "version": "3.7.10",
   "mimetype": "text/x-python",
   "codemirror_mode": {
    "name": "ipython",
    "version": 3
   },
   "pygments_lexer": "ipython3",
   "nbconvert_exporter": "python",
   "file_extension": ".py"
  },
  "kernelspec": {
   "name": "python3",
   "display_name": "Python 3.7.10 64-bit ('clip': conda)"
  },
  "interpreter": {
   "hash": "617a403fee9cd5941b14f7fafb778dfe60d49c3375c435424a2bee2d2957da7e"
  }
 },
 "nbformat": 4,
 "nbformat_minor": 2
}